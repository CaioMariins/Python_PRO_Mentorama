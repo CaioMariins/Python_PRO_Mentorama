{
 "cells": [
  {
   "cell_type": "code",
   "execution_count": 1,
   "metadata": {},
   "outputs": [],
   "source": [
    "class fibonacci():\n",
    "    \"\"\"\n",
    "    Cria um iterador para a sequência fibonnaci.\n",
    "    n = Número de iterações que deseja fazer.\n",
    "    \"\"\"\n",
    "\n",
    "    def __init__(self,n): #inicializador\n",
    "        self.anterior = 0\n",
    "        self.proximo = 1\n",
    "        self.iteration = n\n",
    "\n",
    "    def __iter__(self): #iterador\n",
    "        \n",
    "        self.anterior = self.anterior # atualiza o anterior para ser possível gerar próximos números\n",
    "\n",
    "        return self\n",
    "\n",
    "    def __next__(self):\n",
    "        if self.iteration != 0 or self.iteration > 0: #condicional para execução do código.\n",
    "            self.soma = self.anterior + self.proximo\n",
    "            self.anterior = self.proximo\n",
    "            self.proximo = self.soma\n",
    "            self.iteration -= 1\n",
    "            return self.proximo\n",
    "        else:\n",
    "            raise StopIteration\n",
    "\n"
   ]
  },
  {
   "cell_type": "code",
   "execution_count": 2,
   "metadata": {},
   "outputs": [],
   "source": [
    "fibo_ord = { i : j for i,j in enumerate(fibonacci(10))} #demonstra o dict compreension"
   ]
  },
  {
   "cell_type": "code",
   "execution_count": 3,
   "metadata": {},
   "outputs": [
    {
     "data": {
      "text/plain": [
       "{0: 1, 1: 2, 2: 3, 3: 5, 4: 8, 5: 13, 6: 21, 7: 34, 8: 55, 9: 89}"
      ]
     },
     "execution_count": 3,
     "metadata": {},
     "output_type": "execute_result"
    }
   ],
   "source": [
    "fibo_ord"
   ]
  },
  {
   "cell_type": "code",
   "execution_count": 4,
   "metadata": {},
   "outputs": [],
   "source": [
    "fibo = fibonacci(10)"
   ]
  },
  {
   "cell_type": "code",
   "execution_count": 5,
   "metadata": {},
   "outputs": [
    {
     "data": {
      "text/plain": [
       "<__main__.fibonacci at 0x1716205ae30>"
      ]
     },
     "execution_count": 5,
     "metadata": {},
     "output_type": "execute_result"
    }
   ],
   "source": [
    "fibo"
   ]
  },
  {
   "cell_type": "code",
   "execution_count": 6,
   "metadata": {},
   "outputs": [
    {
     "data": {
      "text/plain": [
       "1"
      ]
     },
     "execution_count": 6,
     "metadata": {},
     "output_type": "execute_result"
    }
   ],
   "source": [
    "next(fibo)"
   ]
  }
 ],
 "metadata": {
  "interpreter": {
   "hash": "d9ac8d18a4d7d5a331e5bf4e92f8e4dc683a6a7ba49c88a294777c6dcd7ae8a8"
  },
  "kernelspec": {
   "display_name": "Python 3.10.4 64-bit",
   "language": "python",
   "name": "python3"
  },
  "language_info": {
   "codemirror_mode": {
    "name": "ipython",
    "version": 3
   },
   "file_extension": ".py",
   "mimetype": "text/x-python",
   "name": "python",
   "nbconvert_exporter": "python",
   "pygments_lexer": "ipython3",
   "version": "3.10.0"
  },
  "orig_nbformat": 4
 },
 "nbformat": 4,
 "nbformat_minor": 2
}
